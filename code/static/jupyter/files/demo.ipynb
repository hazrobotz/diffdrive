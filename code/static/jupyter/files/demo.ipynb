{
 "cells": [
  {
   "cell_type": "code",
   "execution_count": null,
   "metadata": {},
   "outputs": [],
   "source": [
    "import requests\n",
    "from hazrobotz import get_objects\n",
    "from hazrobotz import turn_left\n",
    "from hazrobotz import turn_right\n",
    "from hazrobotz import move_forward\n",
    "from hazrobotz import get_state\n",
    "from hazrobotz import get_target\n",
    "from hazrobotz import stop\n",
    "from hazrobotz import sleep"
   ]
  },
  {
   "cell_type": "code",
   "execution_count": null,
   "metadata": {},
   "outputs": [],
   "source": [
    "idx = 1\n",
    "\n",
    "for _ in range (16):\n",
    "    for _ in range(4):\n",
    "        move_forward(idx)\n",
    "        sleep(15)\n",
    "        turn_right(idx)\n",
    "        sleep(3.14)\n",
    "    turn_right(idx)\n",
    "    sleep(1)\n",
    "stop(idx)\n",
    "\n",
    "state = get_state(idx)\n",
    "target = get_target(idx)\n",
    "\n",
    "seen = get_objects(idx)\n",
    "print(state, target, seen)"
   ]
  }
 ],
 "metadata": {
  "kernelspec": {
   "display_name": "Python 3 (ipykernel)",
   "language": "python",
   "name": "python3"
  },
  "language_info": {
   "codemirror_mode": {
    "name": "ipython",
    "version": 3
   },
   "file_extension": ".py",
   "mimetype": "text/x-python",
   "name": "python",
   "nbconvert_exporter": "python",
   "pygments_lexer": "ipython3",
   "version": "3.10.12"
  }
 },
 "nbformat": 4,
 "nbformat_minor": 5
}
